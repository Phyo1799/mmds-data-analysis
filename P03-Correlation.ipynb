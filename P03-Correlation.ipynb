{
 "cells": [
  {
   "cell_type": "markdown",
   "metadata": {},
   "source": [
    "# Practical - Correlation\n",
    "This practical session will demonstrate how to handle missing data. We assume everyone to have adequate understanding of Python programming language. For those who would like to refresh Python skill, we would like to recommend our <b>\"Programming for Data Science Series\"</b> where we covered almost all aspects of Python programming in data science domain.\n",
    "Refer below URL for full playlist of almost 10 hours video lesson in Burmese Language.\n",
    "URL : https://www.youtube.com/watch?v=jOZNjVVZIVs&list=PLD_eiqVVLZDi9GZZJDC8Zx4-3Np8LHs52"
   ]
  },
  {
   "cell_type": "code",
   "execution_count": 2,
   "metadata": {},
   "outputs": [
    {
     "data": {
      "text/html": [
       "<div>\n",
       "<style scoped>\n",
       "    .dataframe tbody tr th:only-of-type {\n",
       "        vertical-align: middle;\n",
       "    }\n",
       "\n",
       "    .dataframe tbody tr th {\n",
       "        vertical-align: top;\n",
       "    }\n",
       "\n",
       "    .dataframe thead th {\n",
       "        text-align: right;\n",
       "    }\n",
       "</style>\n",
       "<table border=\"1\" class=\"dataframe\">\n",
       "  <thead>\n",
       "    <tr style=\"text-align: right;\">\n",
       "      <th></th>\n",
       "      <th>Day_No</th>\n",
       "      <th>Temp</th>\n",
       "      <th>Cold_Drink</th>\n",
       "      <th>Hot_Drink</th>\n",
       "      <th>Snacks</th>\n",
       "    </tr>\n",
       "  </thead>\n",
       "  <tbody>\n",
       "    <tr>\n",
       "      <th>0</th>\n",
       "      <td>1</td>\n",
       "      <td>35</td>\n",
       "      <td>120</td>\n",
       "      <td>175</td>\n",
       "      <td>45</td>\n",
       "    </tr>\n",
       "    <tr>\n",
       "      <th>1</th>\n",
       "      <td>2</td>\n",
       "      <td>35</td>\n",
       "      <td>122</td>\n",
       "      <td>170</td>\n",
       "      <td>50</td>\n",
       "    </tr>\n",
       "    <tr>\n",
       "      <th>2</th>\n",
       "      <td>3</td>\n",
       "      <td>36</td>\n",
       "      <td>125</td>\n",
       "      <td>172</td>\n",
       "      <td>51</td>\n",
       "    </tr>\n",
       "    <tr>\n",
       "      <th>3</th>\n",
       "      <td>4</td>\n",
       "      <td>36</td>\n",
       "      <td>130</td>\n",
       "      <td>170</td>\n",
       "      <td>52</td>\n",
       "    </tr>\n",
       "    <tr>\n",
       "      <th>4</th>\n",
       "      <td>5</td>\n",
       "      <td>35</td>\n",
       "      <td>128</td>\n",
       "      <td>177</td>\n",
       "      <td>45</td>\n",
       "    </tr>\n",
       "  </tbody>\n",
       "</table>\n",
       "</div>"
      ],
      "text/plain": [
       "   Day_No  Temp  Cold_Drink  Hot_Drink  Snacks\n",
       "0       1    35         120        175      45\n",
       "1       2    35         122        170      50\n",
       "2       3    36         125        172      51\n",
       "3       4    36         130        170      52\n",
       "4       5    35         128        177      45"
      ]
     },
     "execution_count": 2,
     "metadata": {},
     "output_type": "execute_result"
    }
   ],
   "source": [
    "import pandas as pd\n",
    "data = pd.read_csv('https://raw.githubusercontent.com/myanmards/resource_files/master/correlation.csv')\n",
    "data.head()"
   ]
  },
  {
   "cell_type": "code",
   "execution_count": 3,
   "metadata": {},
   "outputs": [
    {
     "data": {
      "text/html": [
       "<div>\n",
       "<style scoped>\n",
       "    .dataframe tbody tr th:only-of-type {\n",
       "        vertical-align: middle;\n",
       "    }\n",
       "\n",
       "    .dataframe tbody tr th {\n",
       "        vertical-align: top;\n",
       "    }\n",
       "\n",
       "    .dataframe thead th {\n",
       "        text-align: right;\n",
       "    }\n",
       "</style>\n",
       "<table border=\"1\" class=\"dataframe\">\n",
       "  <thead>\n",
       "    <tr style=\"text-align: right;\">\n",
       "      <th></th>\n",
       "      <th>Day_No</th>\n",
       "      <th>Temp</th>\n",
       "      <th>Cold_Drink</th>\n",
       "      <th>Hot_Drink</th>\n",
       "      <th>Snacks</th>\n",
       "    </tr>\n",
       "  </thead>\n",
       "  <tbody>\n",
       "    <tr>\n",
       "      <th>count</th>\n",
       "      <td>120.000000</td>\n",
       "      <td>120.000000</td>\n",
       "      <td>120.000000</td>\n",
       "      <td>120.000000</td>\n",
       "      <td>120.000000</td>\n",
       "    </tr>\n",
       "    <tr>\n",
       "      <th>mean</th>\n",
       "      <td>60.500000</td>\n",
       "      <td>38.533333</td>\n",
       "      <td>141.750000</td>\n",
       "      <td>128.766667</td>\n",
       "      <td>50.066667</td>\n",
       "    </tr>\n",
       "    <tr>\n",
       "      <th>std</th>\n",
       "      <td>34.785054</td>\n",
       "      <td>2.315216</td>\n",
       "      <td>13.111833</td>\n",
       "      <td>19.615948</td>\n",
       "      <td>2.946963</td>\n",
       "    </tr>\n",
       "    <tr>\n",
       "      <th>min</th>\n",
       "      <td>1.000000</td>\n",
       "      <td>34.000000</td>\n",
       "      <td>115.000000</td>\n",
       "      <td>109.000000</td>\n",
       "      <td>45.000000</td>\n",
       "    </tr>\n",
       "    <tr>\n",
       "      <th>25%</th>\n",
       "      <td>30.750000</td>\n",
       "      <td>36.000000</td>\n",
       "      <td>130.000000</td>\n",
       "      <td>114.750000</td>\n",
       "      <td>48.000000</td>\n",
       "    </tr>\n",
       "    <tr>\n",
       "      <th>50%</th>\n",
       "      <td>60.500000</td>\n",
       "      <td>39.000000</td>\n",
       "      <td>145.000000</td>\n",
       "      <td>120.000000</td>\n",
       "      <td>51.000000</td>\n",
       "    </tr>\n",
       "    <tr>\n",
       "      <th>75%</th>\n",
       "      <td>90.250000</td>\n",
       "      <td>40.000000</td>\n",
       "      <td>151.000000</td>\n",
       "      <td>139.250000</td>\n",
       "      <td>52.000000</td>\n",
       "    </tr>\n",
       "    <tr>\n",
       "      <th>max</th>\n",
       "      <td>120.000000</td>\n",
       "      <td>42.000000</td>\n",
       "      <td>162.000000</td>\n",
       "      <td>177.000000</td>\n",
       "      <td>56.000000</td>\n",
       "    </tr>\n",
       "  </tbody>\n",
       "</table>\n",
       "</div>"
      ],
      "text/plain": [
       "           Day_No        Temp  Cold_Drink   Hot_Drink      Snacks\n",
       "count  120.000000  120.000000  120.000000  120.000000  120.000000\n",
       "mean    60.500000   38.533333  141.750000  128.766667   50.066667\n",
       "std     34.785054    2.315216   13.111833   19.615948    2.946963\n",
       "min      1.000000   34.000000  115.000000  109.000000   45.000000\n",
       "25%     30.750000   36.000000  130.000000  114.750000   48.000000\n",
       "50%     60.500000   39.000000  145.000000  120.000000   51.000000\n",
       "75%     90.250000   40.000000  151.000000  139.250000   52.000000\n",
       "max    120.000000   42.000000  162.000000  177.000000   56.000000"
      ]
     },
     "execution_count": 3,
     "metadata": {},
     "output_type": "execute_result"
    }
   ],
   "source": [
    "data.describe()"
   ]
  },
  {
   "cell_type": "markdown",
   "metadata": {},
   "source": [
    "There are few methods to calculate correlation statistics using python:\n",
    "* Pearson\n",
    "* Kendall\n",
    "* Spearman\n",
    "<p>It is good to take note that result of the calculated values may differ but the meaning behind the data, i.e. how it is correlated/whether correlated or not, is the same.</p>"
   ]
  },
  {
   "cell_type": "code",
   "execution_count": 4,
   "metadata": {},
   "outputs": [
    {
     "data": {
      "text/html": [
       "<div>\n",
       "<style scoped>\n",
       "    .dataframe tbody tr th:only-of-type {\n",
       "        vertical-align: middle;\n",
       "    }\n",
       "\n",
       "    .dataframe tbody tr th {\n",
       "        vertical-align: top;\n",
       "    }\n",
       "\n",
       "    .dataframe thead th {\n",
       "        text-align: right;\n",
       "    }\n",
       "</style>\n",
       "<table border=\"1\" class=\"dataframe\">\n",
       "  <thead>\n",
       "    <tr style=\"text-align: right;\">\n",
       "      <th></th>\n",
       "      <th>Day_No</th>\n",
       "      <th>Temp</th>\n",
       "      <th>Cold_Drink</th>\n",
       "      <th>Hot_Drink</th>\n",
       "      <th>Snacks</th>\n",
       "    </tr>\n",
       "  </thead>\n",
       "  <tbody>\n",
       "    <tr>\n",
       "      <th>Day_No</th>\n",
       "      <td>1.000000</td>\n",
       "      <td>0.269834</td>\n",
       "      <td>0.378274</td>\n",
       "      <td>-0.468887</td>\n",
       "      <td>0.045251</td>\n",
       "    </tr>\n",
       "    <tr>\n",
       "      <th>Temp</th>\n",
       "      <td>0.269834</td>\n",
       "      <td>1.000000</td>\n",
       "      <td>0.890255</td>\n",
       "      <td>-0.734043</td>\n",
       "      <td>-0.021266</td>\n",
       "    </tr>\n",
       "    <tr>\n",
       "      <th>Cold_Drink</th>\n",
       "      <td>0.378274</td>\n",
       "      <td>0.890255</td>\n",
       "      <td>1.000000</td>\n",
       "      <td>-0.756659</td>\n",
       "      <td>0.042191</td>\n",
       "    </tr>\n",
       "    <tr>\n",
       "      <th>Hot_Drink</th>\n",
       "      <td>-0.468887</td>\n",
       "      <td>-0.734043</td>\n",
       "      <td>-0.756659</td>\n",
       "      <td>1.000000</td>\n",
       "      <td>-0.100323</td>\n",
       "    </tr>\n",
       "    <tr>\n",
       "      <th>Snacks</th>\n",
       "      <td>0.045251</td>\n",
       "      <td>-0.021266</td>\n",
       "      <td>0.042191</td>\n",
       "      <td>-0.100323</td>\n",
       "      <td>1.000000</td>\n",
       "    </tr>\n",
       "  </tbody>\n",
       "</table>\n",
       "</div>"
      ],
      "text/plain": [
       "              Day_No      Temp  Cold_Drink  Hot_Drink    Snacks\n",
       "Day_No      1.000000  0.269834    0.378274  -0.468887  0.045251\n",
       "Temp        0.269834  1.000000    0.890255  -0.734043 -0.021266\n",
       "Cold_Drink  0.378274  0.890255    1.000000  -0.756659  0.042191\n",
       "Hot_Drink  -0.468887 -0.734043   -0.756659   1.000000 -0.100323\n",
       "Snacks      0.045251 -0.021266    0.042191  -0.100323  1.000000"
      ]
     },
     "execution_count": 4,
     "metadata": {},
     "output_type": "execute_result"
    }
   ],
   "source": [
    "data.corr(method='pearson', min_periods=1)"
   ]
  },
  {
   "cell_type": "code",
   "execution_count": 5,
   "metadata": {},
   "outputs": [
    {
     "data": {
      "text/html": [
       "<div>\n",
       "<style scoped>\n",
       "    .dataframe tbody tr th:only-of-type {\n",
       "        vertical-align: middle;\n",
       "    }\n",
       "\n",
       "    .dataframe tbody tr th {\n",
       "        vertical-align: top;\n",
       "    }\n",
       "\n",
       "    .dataframe thead th {\n",
       "        text-align: right;\n",
       "    }\n",
       "</style>\n",
       "<table border=\"1\" class=\"dataframe\">\n",
       "  <thead>\n",
       "    <tr style=\"text-align: right;\">\n",
       "      <th></th>\n",
       "      <th>Day_No</th>\n",
       "      <th>Temp</th>\n",
       "      <th>Cold_Drink</th>\n",
       "      <th>Hot_Drink</th>\n",
       "      <th>Snacks</th>\n",
       "    </tr>\n",
       "  </thead>\n",
       "  <tbody>\n",
       "    <tr>\n",
       "      <th>Day_No</th>\n",
       "      <td>1.000000</td>\n",
       "      <td>0.189172</td>\n",
       "      <td>0.275782</td>\n",
       "      <td>-0.341609</td>\n",
       "      <td>0.009087</td>\n",
       "    </tr>\n",
       "    <tr>\n",
       "      <th>Temp</th>\n",
       "      <td>0.189172</td>\n",
       "      <td>1.000000</td>\n",
       "      <td>0.736854</td>\n",
       "      <td>-0.551354</td>\n",
       "      <td>-0.033551</td>\n",
       "    </tr>\n",
       "    <tr>\n",
       "      <th>Cold_Drink</th>\n",
       "      <td>0.275782</td>\n",
       "      <td>0.736854</td>\n",
       "      <td>1.000000</td>\n",
       "      <td>-0.511530</td>\n",
       "      <td>0.025593</td>\n",
       "    </tr>\n",
       "    <tr>\n",
       "      <th>Hot_Drink</th>\n",
       "      <td>-0.341609</td>\n",
       "      <td>-0.551354</td>\n",
       "      <td>-0.511530</td>\n",
       "      <td>1.000000</td>\n",
       "      <td>-0.036256</td>\n",
       "    </tr>\n",
       "    <tr>\n",
       "      <th>Snacks</th>\n",
       "      <td>0.009087</td>\n",
       "      <td>-0.033551</td>\n",
       "      <td>0.025593</td>\n",
       "      <td>-0.036256</td>\n",
       "      <td>1.000000</td>\n",
       "    </tr>\n",
       "  </tbody>\n",
       "</table>\n",
       "</div>"
      ],
      "text/plain": [
       "              Day_No      Temp  Cold_Drink  Hot_Drink    Snacks\n",
       "Day_No      1.000000  0.189172    0.275782  -0.341609  0.009087\n",
       "Temp        0.189172  1.000000    0.736854  -0.551354 -0.033551\n",
       "Cold_Drink  0.275782  0.736854    1.000000  -0.511530  0.025593\n",
       "Hot_Drink  -0.341609 -0.551354   -0.511530   1.000000 -0.036256\n",
       "Snacks      0.009087 -0.033551    0.025593  -0.036256  1.000000"
      ]
     },
     "execution_count": 5,
     "metadata": {},
     "output_type": "execute_result"
    }
   ],
   "source": [
    "data.corr(method='kendall', min_periods=1)"
   ]
  },
  {
   "cell_type": "code",
   "execution_count": 6,
   "metadata": {},
   "outputs": [
    {
     "data": {
      "text/html": [
       "<div>\n",
       "<style scoped>\n",
       "    .dataframe tbody tr th:only-of-type {\n",
       "        vertical-align: middle;\n",
       "    }\n",
       "\n",
       "    .dataframe tbody tr th {\n",
       "        vertical-align: top;\n",
       "    }\n",
       "\n",
       "    .dataframe thead th {\n",
       "        text-align: right;\n",
       "    }\n",
       "</style>\n",
       "<table border=\"1\" class=\"dataframe\">\n",
       "  <thead>\n",
       "    <tr style=\"text-align: right;\">\n",
       "      <th></th>\n",
       "      <th>Day_No</th>\n",
       "      <th>Temp</th>\n",
       "      <th>Cold_Drink</th>\n",
       "      <th>Hot_Drink</th>\n",
       "      <th>Snacks</th>\n",
       "    </tr>\n",
       "  </thead>\n",
       "  <tbody>\n",
       "    <tr>\n",
       "      <th>Day_No</th>\n",
       "      <td>1.000000</td>\n",
       "      <td>0.264297</td>\n",
       "      <td>0.380530</td>\n",
       "      <td>-0.457385</td>\n",
       "      <td>0.009190</td>\n",
       "    </tr>\n",
       "    <tr>\n",
       "      <th>Temp</th>\n",
       "      <td>0.264297</td>\n",
       "      <td>1.000000</td>\n",
       "      <td>0.870657</td>\n",
       "      <td>-0.690304</td>\n",
       "      <td>-0.043479</td>\n",
       "    </tr>\n",
       "    <tr>\n",
       "      <th>Cold_Drink</th>\n",
       "      <td>0.380530</td>\n",
       "      <td>0.870657</td>\n",
       "      <td>1.000000</td>\n",
       "      <td>-0.686986</td>\n",
       "      <td>0.029932</td>\n",
       "    </tr>\n",
       "    <tr>\n",
       "      <th>Hot_Drink</th>\n",
       "      <td>-0.457385</td>\n",
       "      <td>-0.690304</td>\n",
       "      <td>-0.686986</td>\n",
       "      <td>1.000000</td>\n",
       "      <td>-0.045372</td>\n",
       "    </tr>\n",
       "    <tr>\n",
       "      <th>Snacks</th>\n",
       "      <td>0.009190</td>\n",
       "      <td>-0.043479</td>\n",
       "      <td>0.029932</td>\n",
       "      <td>-0.045372</td>\n",
       "      <td>1.000000</td>\n",
       "    </tr>\n",
       "  </tbody>\n",
       "</table>\n",
       "</div>"
      ],
      "text/plain": [
       "              Day_No      Temp  Cold_Drink  Hot_Drink    Snacks\n",
       "Day_No      1.000000  0.264297    0.380530  -0.457385  0.009190\n",
       "Temp        0.264297  1.000000    0.870657  -0.690304 -0.043479\n",
       "Cold_Drink  0.380530  0.870657    1.000000  -0.686986  0.029932\n",
       "Hot_Drink  -0.457385 -0.690304   -0.686986   1.000000 -0.045372\n",
       "Snacks      0.009190 -0.043479    0.029932  -0.045372  1.000000"
      ]
     },
     "execution_count": 6,
     "metadata": {},
     "output_type": "execute_result"
    }
   ],
   "source": [
    "data.corr(method='spearman', min_periods=1)"
   ]
  },
  {
   "cell_type": "markdown",
   "metadata": {},
   "source": [
    "<b>Note: We can find correlation between two variables only as shown below.</b>"
   ]
  },
  {
   "cell_type": "code",
   "execution_count": 7,
   "metadata": {},
   "outputs": [
    {
     "data": {
      "text/html": [
       "<div>\n",
       "<style scoped>\n",
       "    .dataframe tbody tr th:only-of-type {\n",
       "        vertical-align: middle;\n",
       "    }\n",
       "\n",
       "    .dataframe tbody tr th {\n",
       "        vertical-align: top;\n",
       "    }\n",
       "\n",
       "    .dataframe thead th {\n",
       "        text-align: right;\n",
       "    }\n",
       "</style>\n",
       "<table border=\"1\" class=\"dataframe\">\n",
       "  <thead>\n",
       "    <tr style=\"text-align: right;\">\n",
       "      <th></th>\n",
       "      <th>Temp</th>\n",
       "      <th>Cold_Drink</th>\n",
       "    </tr>\n",
       "  </thead>\n",
       "  <tbody>\n",
       "    <tr>\n",
       "      <th>Temp</th>\n",
       "      <td>1.000000</td>\n",
       "      <td>0.890255</td>\n",
       "    </tr>\n",
       "    <tr>\n",
       "      <th>Cold_Drink</th>\n",
       "      <td>0.890255</td>\n",
       "      <td>1.000000</td>\n",
       "    </tr>\n",
       "  </tbody>\n",
       "</table>\n",
       "</div>"
      ],
      "text/plain": [
       "                Temp  Cold_Drink\n",
       "Temp        1.000000    0.890255\n",
       "Cold_Drink  0.890255    1.000000"
      ]
     },
     "execution_count": 7,
     "metadata": {},
     "output_type": "execute_result"
    }
   ],
   "source": [
    "data[['Temp', 'Cold_Drink']].corr()"
   ]
  },
  {
   "cell_type": "markdown",
   "metadata": {},
   "source": [
    "Since the correlation value between Temperature and Cold_Drink gave us positive and somewhere close to one, we can conclude that these two variables has positive correlation."
   ]
  },
  {
   "cell_type": "code",
   "execution_count": 8,
   "metadata": {},
   "outputs": [
    {
     "data": {
      "text/html": [
       "<div>\n",
       "<style scoped>\n",
       "    .dataframe tbody tr th:only-of-type {\n",
       "        vertical-align: middle;\n",
       "    }\n",
       "\n",
       "    .dataframe tbody tr th {\n",
       "        vertical-align: top;\n",
       "    }\n",
       "\n",
       "    .dataframe thead th {\n",
       "        text-align: right;\n",
       "    }\n",
       "</style>\n",
       "<table border=\"1\" class=\"dataframe\">\n",
       "  <thead>\n",
       "    <tr style=\"text-align: right;\">\n",
       "      <th></th>\n",
       "      <th>Temp</th>\n",
       "      <th>Hot_Drink</th>\n",
       "    </tr>\n",
       "  </thead>\n",
       "  <tbody>\n",
       "    <tr>\n",
       "      <th>Temp</th>\n",
       "      <td>1.000000</td>\n",
       "      <td>-0.734043</td>\n",
       "    </tr>\n",
       "    <tr>\n",
       "      <th>Hot_Drink</th>\n",
       "      <td>-0.734043</td>\n",
       "      <td>1.000000</td>\n",
       "    </tr>\n",
       "  </tbody>\n",
       "</table>\n",
       "</div>"
      ],
      "text/plain": [
       "               Temp  Hot_Drink\n",
       "Temp       1.000000  -0.734043\n",
       "Hot_Drink -0.734043   1.000000"
      ]
     },
     "execution_count": 8,
     "metadata": {},
     "output_type": "execute_result"
    }
   ],
   "source": [
    "data[['Temp', 'Hot_Drink']].corr()"
   ]
  },
  {
   "cell_type": "markdown",
   "metadata": {},
   "source": [
    "Since the correlation value between Temperature and Hot_Drink gave us negative and somewhere close to minus one, we can conclude that these two variables has negative correlation."
   ]
  },
  {
   "cell_type": "code",
   "execution_count": 9,
   "metadata": {},
   "outputs": [
    {
     "data": {
      "text/html": [
       "<div>\n",
       "<style scoped>\n",
       "    .dataframe tbody tr th:only-of-type {\n",
       "        vertical-align: middle;\n",
       "    }\n",
       "\n",
       "    .dataframe tbody tr th {\n",
       "        vertical-align: top;\n",
       "    }\n",
       "\n",
       "    .dataframe thead th {\n",
       "        text-align: right;\n",
       "    }\n",
       "</style>\n",
       "<table border=\"1\" class=\"dataframe\">\n",
       "  <thead>\n",
       "    <tr style=\"text-align: right;\">\n",
       "      <th></th>\n",
       "      <th>Temp</th>\n",
       "      <th>Snacks</th>\n",
       "    </tr>\n",
       "  </thead>\n",
       "  <tbody>\n",
       "    <tr>\n",
       "      <th>Temp</th>\n",
       "      <td>1.000000</td>\n",
       "      <td>-0.021266</td>\n",
       "    </tr>\n",
       "    <tr>\n",
       "      <th>Snacks</th>\n",
       "      <td>-0.021266</td>\n",
       "      <td>1.000000</td>\n",
       "    </tr>\n",
       "  </tbody>\n",
       "</table>\n",
       "</div>"
      ],
      "text/plain": [
       "            Temp    Snacks\n",
       "Temp    1.000000 -0.021266\n",
       "Snacks -0.021266  1.000000"
      ]
     },
     "execution_count": 9,
     "metadata": {},
     "output_type": "execute_result"
    }
   ],
   "source": [
    "data[['Temp', 'Snacks']].corr()"
   ]
  },
  {
   "cell_type": "markdown",
   "metadata": {},
   "source": [
    "Since the correlation value between Temperature and Snacks is far from one and minus one, we can conclude that these two variables has no correlation."
   ]
  },
  {
   "cell_type": "code",
   "execution_count": 10,
   "metadata": {},
   "outputs": [
    {
     "data": {
      "text/html": [
       "<style  type=\"text/css\" >\n",
       "    #T_2e494026_0479_11eb_9341_689423f042d4row0_col0 {\n",
       "            background-color:  #b40426;\n",
       "        }    #T_2e494026_0479_11eb_9341_689423f042d4row0_col1 {\n",
       "            background-color:  #efcfbf;\n",
       "        }    #T_2e494026_0479_11eb_9341_689423f042d4row0_col2 {\n",
       "            background-color:  #f6bea4;\n",
       "        }    #T_2e494026_0479_11eb_9341_689423f042d4row0_col3 {\n",
       "            background-color:  #6e90f2;\n",
       "        }    #T_2e494026_0479_11eb_9341_689423f042d4row0_col4 {\n",
       "            background-color:  #6384eb;\n",
       "        }    #T_2e494026_0479_11eb_9341_689423f042d4row1_col0 {\n",
       "            background-color:  #dddcdc;\n",
       "        }    #T_2e494026_0479_11eb_9341_689423f042d4row1_col1 {\n",
       "            background-color:  #b40426;\n",
       "        }    #T_2e494026_0479_11eb_9341_689423f042d4row1_col2 {\n",
       "            background-color:  #ca3b37;\n",
       "        }    #T_2e494026_0479_11eb_9341_689423f042d4row1_col3 {\n",
       "            background-color:  #3e51c5;\n",
       "        }    #T_2e494026_0479_11eb_9341_689423f042d4row1_col4 {\n",
       "            background-color:  #506bda;\n",
       "        }    #T_2e494026_0479_11eb_9341_689423f042d4row2_col0 {\n",
       "            background-color:  #eed0c0;\n",
       "        }    #T_2e494026_0479_11eb_9341_689423f042d4row2_col1 {\n",
       "            background-color:  #cb3e38;\n",
       "        }    #T_2e494026_0479_11eb_9341_689423f042d4row2_col2 {\n",
       "            background-color:  #b40426;\n",
       "        }    #T_2e494026_0479_11eb_9341_689423f042d4row2_col3 {\n",
       "            background-color:  #3b4cc0;\n",
       "        }    #T_2e494026_0479_11eb_9341_689423f042d4row2_col4 {\n",
       "            background-color:  #6384eb;\n",
       "        }    #T_2e494026_0479_11eb_9341_689423f042d4row3_col0 {\n",
       "            background-color:  #3b4cc0;\n",
       "        }    #T_2e494026_0479_11eb_9341_689423f042d4row3_col1 {\n",
       "            background-color:  #3b4cc0;\n",
       "        }    #T_2e494026_0479_11eb_9341_689423f042d4row3_col2 {\n",
       "            background-color:  #3b4cc0;\n",
       "        }    #T_2e494026_0479_11eb_9341_689423f042d4row3_col3 {\n",
       "            background-color:  #b40426;\n",
       "        }    #T_2e494026_0479_11eb_9341_689423f042d4row3_col4 {\n",
       "            background-color:  #3b4cc0;\n",
       "        }    #T_2e494026_0479_11eb_9341_689423f042d4row4_col0 {\n",
       "            background-color:  #afcafc;\n",
       "        }    #T_2e494026_0479_11eb_9341_689423f042d4row4_col1 {\n",
       "            background-color:  #c4d5f3;\n",
       "        }    #T_2e494026_0479_11eb_9341_689423f042d4row4_col2 {\n",
       "            background-color:  #d1dae9;\n",
       "        }    #T_2e494026_0479_11eb_9341_689423f042d4row4_col3 {\n",
       "            background-color:  #b7cff9;\n",
       "        }    #T_2e494026_0479_11eb_9341_689423f042d4row4_col4 {\n",
       "            background-color:  #b40426;\n",
       "        }</style>  \n",
       "<table id=\"T_2e494026_0479_11eb_9341_689423f042d4\" > \n",
       "<thead>    <tr> \n",
       "        <th class=\"blank level0\" ></th> \n",
       "        <th class=\"col_heading level0 col0\" >Day_No</th> \n",
       "        <th class=\"col_heading level0 col1\" >Temp</th> \n",
       "        <th class=\"col_heading level0 col2\" >Cold_Drink</th> \n",
       "        <th class=\"col_heading level0 col3\" >Hot_Drink</th> \n",
       "        <th class=\"col_heading level0 col4\" >Snacks</th> \n",
       "    </tr></thead> \n",
       "<tbody>    <tr> \n",
       "        <th id=\"T_2e494026_0479_11eb_9341_689423f042d4level0_row0\" class=\"row_heading level0 row0\" >Day_No</th> \n",
       "        <td id=\"T_2e494026_0479_11eb_9341_689423f042d4row0_col0\" class=\"data row0 col0\" >1</td> \n",
       "        <td id=\"T_2e494026_0479_11eb_9341_689423f042d4row0_col1\" class=\"data row0 col1\" >0.269834</td> \n",
       "        <td id=\"T_2e494026_0479_11eb_9341_689423f042d4row0_col2\" class=\"data row0 col2\" >0.378274</td> \n",
       "        <td id=\"T_2e494026_0479_11eb_9341_689423f042d4row0_col3\" class=\"data row0 col3\" >-0.468887</td> \n",
       "        <td id=\"T_2e494026_0479_11eb_9341_689423f042d4row0_col4\" class=\"data row0 col4\" >0.0452506</td> \n",
       "    </tr>    <tr> \n",
       "        <th id=\"T_2e494026_0479_11eb_9341_689423f042d4level0_row1\" class=\"row_heading level0 row1\" >Temp</th> \n",
       "        <td id=\"T_2e494026_0479_11eb_9341_689423f042d4row1_col0\" class=\"data row1 col0\" >0.269834</td> \n",
       "        <td id=\"T_2e494026_0479_11eb_9341_689423f042d4row1_col1\" class=\"data row1 col1\" >1</td> \n",
       "        <td id=\"T_2e494026_0479_11eb_9341_689423f042d4row1_col2\" class=\"data row1 col2\" >0.890255</td> \n",
       "        <td id=\"T_2e494026_0479_11eb_9341_689423f042d4row1_col3\" class=\"data row1 col3\" >-0.734043</td> \n",
       "        <td id=\"T_2e494026_0479_11eb_9341_689423f042d4row1_col4\" class=\"data row1 col4\" >-0.0212665</td> \n",
       "    </tr>    <tr> \n",
       "        <th id=\"T_2e494026_0479_11eb_9341_689423f042d4level0_row2\" class=\"row_heading level0 row2\" >Cold_Drink</th> \n",
       "        <td id=\"T_2e494026_0479_11eb_9341_689423f042d4row2_col0\" class=\"data row2 col0\" >0.378274</td> \n",
       "        <td id=\"T_2e494026_0479_11eb_9341_689423f042d4row2_col1\" class=\"data row2 col1\" >0.890255</td> \n",
       "        <td id=\"T_2e494026_0479_11eb_9341_689423f042d4row2_col2\" class=\"data row2 col2\" >1</td> \n",
       "        <td id=\"T_2e494026_0479_11eb_9341_689423f042d4row2_col3\" class=\"data row2 col3\" >-0.756659</td> \n",
       "        <td id=\"T_2e494026_0479_11eb_9341_689423f042d4row2_col4\" class=\"data row2 col4\" >0.0421907</td> \n",
       "    </tr>    <tr> \n",
       "        <th id=\"T_2e494026_0479_11eb_9341_689423f042d4level0_row3\" class=\"row_heading level0 row3\" >Hot_Drink</th> \n",
       "        <td id=\"T_2e494026_0479_11eb_9341_689423f042d4row3_col0\" class=\"data row3 col0\" >-0.468887</td> \n",
       "        <td id=\"T_2e494026_0479_11eb_9341_689423f042d4row3_col1\" class=\"data row3 col1\" >-0.734043</td> \n",
       "        <td id=\"T_2e494026_0479_11eb_9341_689423f042d4row3_col2\" class=\"data row3 col2\" >-0.756659</td> \n",
       "        <td id=\"T_2e494026_0479_11eb_9341_689423f042d4row3_col3\" class=\"data row3 col3\" >1</td> \n",
       "        <td id=\"T_2e494026_0479_11eb_9341_689423f042d4row3_col4\" class=\"data row3 col4\" >-0.100323</td> \n",
       "    </tr>    <tr> \n",
       "        <th id=\"T_2e494026_0479_11eb_9341_689423f042d4level0_row4\" class=\"row_heading level0 row4\" >Snacks</th> \n",
       "        <td id=\"T_2e494026_0479_11eb_9341_689423f042d4row4_col0\" class=\"data row4 col0\" >0.0452506</td> \n",
       "        <td id=\"T_2e494026_0479_11eb_9341_689423f042d4row4_col1\" class=\"data row4 col1\" >-0.0212665</td> \n",
       "        <td id=\"T_2e494026_0479_11eb_9341_689423f042d4row4_col2\" class=\"data row4 col2\" >0.0421907</td> \n",
       "        <td id=\"T_2e494026_0479_11eb_9341_689423f042d4row4_col3\" class=\"data row4 col3\" >-0.100323</td> \n",
       "        <td id=\"T_2e494026_0479_11eb_9341_689423f042d4row4_col4\" class=\"data row4 col4\" >1</td> \n",
       "    </tr></tbody> \n",
       "</table> "
      ],
      "text/plain": [
       "<pandas.io.formats.style.Styler at 0x9bc47b8>"
      ]
     },
     "execution_count": 10,
     "metadata": {},
     "output_type": "execute_result"
    }
   ],
   "source": [
    "import matplotlib.pyplot as plt\n",
    "%matplotlib inline\n",
    "\n",
    "data.corr().style.background_gradient(cmap='coolwarm')"
   ]
  },
  {
   "cell_type": "code",
   "execution_count": 11,
   "metadata": {},
   "outputs": [
    {
     "data": {
      "text/html": [
       "<style  type=\"text/css\" >\n",
       "    #T_596530d0_0479_11eb_90c0_689423f042d4row0_col0 {\n",
       "            background-color:  #b40426;\n",
       "        }    #T_596530d0_0479_11eb_90c0_689423f042d4row0_col1 {\n",
       "            background-color:  #efcfbf;\n",
       "        }    #T_596530d0_0479_11eb_90c0_689423f042d4row0_col2 {\n",
       "            background-color:  #f6bea4;\n",
       "        }    #T_596530d0_0479_11eb_90c0_689423f042d4row0_col3 {\n",
       "            background-color:  #6e90f2;\n",
       "        }    #T_596530d0_0479_11eb_90c0_689423f042d4row0_col4 {\n",
       "            background-color:  #6384eb;\n",
       "        }    #T_596530d0_0479_11eb_90c0_689423f042d4row1_col0 {\n",
       "            background-color:  #dddcdc;\n",
       "        }    #T_596530d0_0479_11eb_90c0_689423f042d4row1_col1 {\n",
       "            background-color:  #b40426;\n",
       "        }    #T_596530d0_0479_11eb_90c0_689423f042d4row1_col2 {\n",
       "            background-color:  #ca3b37;\n",
       "        }    #T_596530d0_0479_11eb_90c0_689423f042d4row1_col3 {\n",
       "            background-color:  #3e51c5;\n",
       "        }    #T_596530d0_0479_11eb_90c0_689423f042d4row1_col4 {\n",
       "            background-color:  #506bda;\n",
       "        }    #T_596530d0_0479_11eb_90c0_689423f042d4row2_col0 {\n",
       "            background-color:  #eed0c0;\n",
       "        }    #T_596530d0_0479_11eb_90c0_689423f042d4row2_col1 {\n",
       "            background-color:  #cb3e38;\n",
       "        }    #T_596530d0_0479_11eb_90c0_689423f042d4row2_col2 {\n",
       "            background-color:  #b40426;\n",
       "        }    #T_596530d0_0479_11eb_90c0_689423f042d4row2_col3 {\n",
       "            background-color:  #3b4cc0;\n",
       "        }    #T_596530d0_0479_11eb_90c0_689423f042d4row2_col4 {\n",
       "            background-color:  #6384eb;\n",
       "        }    #T_596530d0_0479_11eb_90c0_689423f042d4row3_col0 {\n",
       "            background-color:  #3b4cc0;\n",
       "        }    #T_596530d0_0479_11eb_90c0_689423f042d4row3_col1 {\n",
       "            background-color:  #3b4cc0;\n",
       "        }    #T_596530d0_0479_11eb_90c0_689423f042d4row3_col2 {\n",
       "            background-color:  #3b4cc0;\n",
       "        }    #T_596530d0_0479_11eb_90c0_689423f042d4row3_col3 {\n",
       "            background-color:  #b40426;\n",
       "        }    #T_596530d0_0479_11eb_90c0_689423f042d4row3_col4 {\n",
       "            background-color:  #3b4cc0;\n",
       "        }    #T_596530d0_0479_11eb_90c0_689423f042d4row4_col0 {\n",
       "            background-color:  #afcafc;\n",
       "        }    #T_596530d0_0479_11eb_90c0_689423f042d4row4_col1 {\n",
       "            background-color:  #c4d5f3;\n",
       "        }    #T_596530d0_0479_11eb_90c0_689423f042d4row4_col2 {\n",
       "            background-color:  #d1dae9;\n",
       "        }    #T_596530d0_0479_11eb_90c0_689423f042d4row4_col3 {\n",
       "            background-color:  #b7cff9;\n",
       "        }    #T_596530d0_0479_11eb_90c0_689423f042d4row4_col4 {\n",
       "            background-color:  #b40426;\n",
       "        }</style>  \n",
       "<table id=\"T_596530d0_0479_11eb_90c0_689423f042d4\" > \n",
       "<thead>    <tr> \n",
       "        <th class=\"blank level0\" ></th> \n",
       "        <th class=\"col_heading level0 col0\" >Day_No</th> \n",
       "        <th class=\"col_heading level0 col1\" >Temp</th> \n",
       "        <th class=\"col_heading level0 col2\" >Cold_Drink</th> \n",
       "        <th class=\"col_heading level0 col3\" >Hot_Drink</th> \n",
       "        <th class=\"col_heading level0 col4\" >Snacks</th> \n",
       "    </tr></thead> \n",
       "<tbody>    <tr> \n",
       "        <th id=\"T_596530d0_0479_11eb_90c0_689423f042d4level0_row0\" class=\"row_heading level0 row0\" >Day_No</th> \n",
       "        <td id=\"T_596530d0_0479_11eb_90c0_689423f042d4row0_col0\" class=\"data row0 col0\" >1</td> \n",
       "        <td id=\"T_596530d0_0479_11eb_90c0_689423f042d4row0_col1\" class=\"data row0 col1\" >0.27</td> \n",
       "        <td id=\"T_596530d0_0479_11eb_90c0_689423f042d4row0_col2\" class=\"data row0 col2\" >0.38</td> \n",
       "        <td id=\"T_596530d0_0479_11eb_90c0_689423f042d4row0_col3\" class=\"data row0 col3\" >-0.47</td> \n",
       "        <td id=\"T_596530d0_0479_11eb_90c0_689423f042d4row0_col4\" class=\"data row0 col4\" >0.045</td> \n",
       "    </tr>    <tr> \n",
       "        <th id=\"T_596530d0_0479_11eb_90c0_689423f042d4level0_row1\" class=\"row_heading level0 row1\" >Temp</th> \n",
       "        <td id=\"T_596530d0_0479_11eb_90c0_689423f042d4row1_col0\" class=\"data row1 col0\" >0.27</td> \n",
       "        <td id=\"T_596530d0_0479_11eb_90c0_689423f042d4row1_col1\" class=\"data row1 col1\" >1</td> \n",
       "        <td id=\"T_596530d0_0479_11eb_90c0_689423f042d4row1_col2\" class=\"data row1 col2\" >0.89</td> \n",
       "        <td id=\"T_596530d0_0479_11eb_90c0_689423f042d4row1_col3\" class=\"data row1 col3\" >-0.73</td> \n",
       "        <td id=\"T_596530d0_0479_11eb_90c0_689423f042d4row1_col4\" class=\"data row1 col4\" >-0.021</td> \n",
       "    </tr>    <tr> \n",
       "        <th id=\"T_596530d0_0479_11eb_90c0_689423f042d4level0_row2\" class=\"row_heading level0 row2\" >Cold_Drink</th> \n",
       "        <td id=\"T_596530d0_0479_11eb_90c0_689423f042d4row2_col0\" class=\"data row2 col0\" >0.38</td> \n",
       "        <td id=\"T_596530d0_0479_11eb_90c0_689423f042d4row2_col1\" class=\"data row2 col1\" >0.89</td> \n",
       "        <td id=\"T_596530d0_0479_11eb_90c0_689423f042d4row2_col2\" class=\"data row2 col2\" >1</td> \n",
       "        <td id=\"T_596530d0_0479_11eb_90c0_689423f042d4row2_col3\" class=\"data row2 col3\" >-0.76</td> \n",
       "        <td id=\"T_596530d0_0479_11eb_90c0_689423f042d4row2_col4\" class=\"data row2 col4\" >0.042</td> \n",
       "    </tr>    <tr> \n",
       "        <th id=\"T_596530d0_0479_11eb_90c0_689423f042d4level0_row3\" class=\"row_heading level0 row3\" >Hot_Drink</th> \n",
       "        <td id=\"T_596530d0_0479_11eb_90c0_689423f042d4row3_col0\" class=\"data row3 col0\" >-0.47</td> \n",
       "        <td id=\"T_596530d0_0479_11eb_90c0_689423f042d4row3_col1\" class=\"data row3 col1\" >-0.73</td> \n",
       "        <td id=\"T_596530d0_0479_11eb_90c0_689423f042d4row3_col2\" class=\"data row3 col2\" >-0.76</td> \n",
       "        <td id=\"T_596530d0_0479_11eb_90c0_689423f042d4row3_col3\" class=\"data row3 col3\" >1</td> \n",
       "        <td id=\"T_596530d0_0479_11eb_90c0_689423f042d4row3_col4\" class=\"data row3 col4\" >-0.1</td> \n",
       "    </tr>    <tr> \n",
       "        <th id=\"T_596530d0_0479_11eb_90c0_689423f042d4level0_row4\" class=\"row_heading level0 row4\" >Snacks</th> \n",
       "        <td id=\"T_596530d0_0479_11eb_90c0_689423f042d4row4_col0\" class=\"data row4 col0\" >0.045</td> \n",
       "        <td id=\"T_596530d0_0479_11eb_90c0_689423f042d4row4_col1\" class=\"data row4 col1\" >-0.021</td> \n",
       "        <td id=\"T_596530d0_0479_11eb_90c0_689423f042d4row4_col2\" class=\"data row4 col2\" >0.042</td> \n",
       "        <td id=\"T_596530d0_0479_11eb_90c0_689423f042d4row4_col3\" class=\"data row4 col3\" >-0.1</td> \n",
       "        <td id=\"T_596530d0_0479_11eb_90c0_689423f042d4row4_col4\" class=\"data row4 col4\" >1</td> \n",
       "    </tr></tbody> \n",
       "</table> "
      ],
      "text/plain": [
       "<pandas.io.formats.style.Styler at 0x9bc4390>"
      ]
     },
     "execution_count": 11,
     "metadata": {},
     "output_type": "execute_result"
    }
   ],
   "source": [
    "data.corr().style.background_gradient(cmap='coolwarm').set_precision(2)"
   ]
  },
  {
   "cell_type": "markdown",
   "metadata": {},
   "source": [
    "<b>Note: Scatter plots are very common visualization technique to see correlation between two variables.</b>"
   ]
  },
  {
   "cell_type": "code",
   "execution_count": 12,
   "metadata": {},
   "outputs": [
    {
     "data": {
      "image/png": "[encoded data removed]",
      "text/plain": [
       "<matplotlib.figure.Figure at 0xb4279e8>"
      ]
     },
     "metadata": {},
     "output_type": "display_data"
    }
   ],
   "source": [
    "plt.scatter(data['Temp'], data['Cold_Drink'])\n",
    "plt.show()"
   ]
  },
  {
   "cell_type": "code",
   "execution_count": 13,
   "metadata": {},
   "outputs": [
    {
     "data": {
      "image/png": "[encoded data removed]",
      "text/plain": [
       "<matplotlib.figure.Figure at 0xb4f29e8>"
      ]
     },
     "metadata": {},
     "output_type": "display_data"
    }
   ],
   "source": [
    "plt.scatter(data['Temp'], data['Hot_Drink'])\n",
    "plt.show()"
   ]
  },
  {
   "cell_type": "code",
   "execution_count": 14,
   "metadata": {},
   "outputs": [
    {
     "data": {
      "image/png": "[encoded data removed]",
      "text/plain": [
       "<matplotlib.figure.Figure at 0xb69c898>"
      ]
     },
     "metadata": {},
     "output_type": "display_data"
    }
   ],
   "source": [
    "plt.scatter(data['Temp'], data['Snacks'])\n",
    "plt.show()"
   ]
  },
  {
   "cell_type": "code",
   "execution_count": null,
   "metadata": {},
   "outputs": [],
   "source": []
  }
 ],
 "metadata": {
  "kernelspec": {
   "display_name": "Python 3",
   "language": "python",
   "name": "python3"
  },
  "language_info": {
   "codemirror_mode": {
    "name": "ipython",
    "version": 3
   },
   "file_extension": ".py",
   "mimetype": "text/x-python",
   "name": "python",
   "nbconvert_exporter": "python",
   "pygments_lexer": "ipython3",
   "version": "3.6.4"
  }
 },
 "nbformat": 4,
 "nbformat_minor": 2
}
